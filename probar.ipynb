{
 "cells": [
  {
   "cell_type": "code",
   "execution_count": null,
   "id": "8ae7f81c",
   "metadata": {},
   "outputs": [],
   "source": []
  },
  {
   "cell_type": "code",
   "execution_count": 2,
   "id": "afb8587f",
   "metadata": {},
   "outputs": [],
   "source": [
    "from app.db import collection_causas"
   ]
  },
  {
   "cell_type": "code",
   "execution_count": 4,
   "id": "e1414af3",
   "metadata": {},
   "outputs": [
    {
     "name": "stdout",
     "output_type": "stream",
     "text": [
      "C-2024-001\n"
     ]
    }
   ],
   "source": [
    "document = {\n",
    "                \"id_causa\": \"C-2024-001\",\n",
    "                \"titulo\": \"Demanda por incumplimiento de contrato\",\n",
    "                \"descripcion\": \"El demandante alega falta de pago según contrato firmado el 15/03/2024\",\n",
    "                \"estado\": \"en_tramite\",\n",
    "                \"fecha_creacion\": \"2024-06-05T10:00:00Z\",\n",
    "                \"fecha_ultima_actualizacion\": \"2024-06-10T15:30:00Z\",\n",
    "                \"tipo\": \"civil\",\n",
    "                \"clasificacion\": \"contratos\",\n",
    "                \"partes\": {\n",
    "                    \"demandante\": {\n",
    "                        \"nombre\": \"Juan Pérez\",\n",
    "                        \"rut\": \"12.345.678-9\",\n",
    "                        \"abogado\": \"María González\",\n",
    "                        \"contacto\": \"+56912345678\"\n",
    "                    },\n",
    "                    \"demandado\": {\n",
    "                        \"nombre\": \"Empresa XYZ S.A.\",\n",
    "                        \"rut\": \"76.543.210-K\",\n",
    "                        \"abogado\": \"Pedro Sánchez\"\n",
    "                    }\n",
    "                },\n",
    "                \"tribunal\": {\n",
    "                    \"nombre\": \"Juzgado Civil de Santiago\",\n",
    "                    \"rol_tribunal\": \"C-1245-2024\"\n",
    "                },\n",
    "                \"notas\": \"El demandado solicitó ampliación de plazo\",\n",
    "                \"usuario_responsable\": \"abogado1@estudio.cl\"\n",
    "            }\n",
    "id_causa = document.get(\"id_causa\")\n",
    "print(id_causa)"
   ]
  },
  {
   "cell_type": "code",
   "execution_count": 5,
   "id": "48b9dc1c",
   "metadata": {},
   "outputs": [
    {
     "data": {
      "text/plain": [
       "AsyncCollection(AsyncDatabase(AsyncMongoClient(host='mongodb+srv://causas-demo.odphcgt.mongodb.net', document_class=dict, tz_aware=False, connect=True, retrywrites=True, w='majority', appname='causas-demo'), 'causas-demo'), 'causas')"
      ]
     },
     "execution_count": 5,
     "metadata": {},
     "output_type": "execute_result"
    }
   ],
   "source": [
    "collection_causas"
   ]
  },
  {
   "cell_type": "code",
   "execution_count": 4,
   "id": "fc443028",
   "metadata": {},
   "outputs": [
    {
     "data": {
      "text/plain": [
       "UpdateResult({'n': 1, 'electionId': ObjectId('7fffffff0000000000000118'), 'opTime': {'ts': Timestamp(1750082853, 4), 't': 280}, 'upserted': ObjectId('68502525b6060ecfd7ae4923'), 'nModified': 0, 'ok': 1.0, '$clusterTime': {'clusterTime': Timestamp(1750082853, 4), 'signature': {'hash': b'\\xce\\x141\\x05\\x1bD\\xc67\\xd8\\xe0\\xd4B\\n=\\xab\\x7f\\xecT\\x88\\xa4', 'keyId': 7470607179121164290}}, 'operationTime': Timestamp(1750082853, 4), 'updatedExisting': False}, acknowledged=True)"
      ]
     },
     "execution_count": 4,
     "metadata": {},
     "output_type": "execute_result"
    }
   ],
   "source": [
    "await collection_causas.update_one(\n",
    "                        {\"id_causa\":id_causa},\n",
    "                        {\"$set\":document},\n",
    "                        upsert=True\n",
    "                        )"
   ]
  },
  {
   "cell_type": "markdown",
   "id": "d61622a5",
   "metadata": {},
   "source": []
  },
  {
   "cell_type": "code",
   "execution_count": null,
   "id": "3eeaa361",
   "metadata": {},
   "outputs": [],
   "source": []
  },
  {
   "cell_type": "code",
   "execution_count": 6,
   "id": "98964fce",
   "metadata": {},
   "outputs": [],
   "source": [
    "c = await collection_causas.find_one({\"id_causa\":id_causa})"
   ]
  },
  {
   "cell_type": "code",
   "execution_count": 7,
   "id": "2ae943c1",
   "metadata": {},
   "outputs": [
    {
     "data": {
      "text/plain": [
       "{'_id': ObjectId('68502525b6060ecfd7ae4923'),\n",
       " 'id_causa': 'C-2024-001',\n",
       " 'clasificacion': 'contratos',\n",
       " 'descripcion': 'El demandante alega falta de pago según contrato firmado el 15/03/2024',\n",
       " 'estado': 'en_tramite',\n",
       " 'fecha_creacion': '2024-06-05T10:00:00Z',\n",
       " 'fecha_ultima_actualizacion': '2024-06-10T15:30:00Z',\n",
       " 'notas': 'El demandado solicitó ampliación de plazo',\n",
       " 'partes': {'demandante': {'nombre': 'Juan Pérez',\n",
       "   'rut': '12.345.678-9',\n",
       "   'abogado': 'María González',\n",
       "   'contacto': '+56912345678'},\n",
       "  'demandado': {'nombre': 'Empresa XYZ S.A.',\n",
       "   'rut': '76.543.210-K',\n",
       "   'abogado': 'Pedro Sánchez'}},\n",
       " 'tipo': 'civil',\n",
       " 'titulo': 'Demanda por incumplimiento de contrato',\n",
       " 'tribunal': {'nombre': 'Juzgado Civil de Santiago',\n",
       "  'rol_tribunal': 'C-1245-2024'},\n",
       " 'usuario_responsable': 'abogado1@estudio.cl'}"
      ]
     },
     "execution_count": 7,
     "metadata": {},
     "output_type": "execute_result"
    }
   ],
   "source": [
    "c"
   ]
  },
  {
   "cell_type": "code",
   "execution_count": 28,
   "id": "4c5a717b",
   "metadata": {},
   "outputs": [],
   "source": [
    "from datetime import datetime, timezone"
   ]
  },
  {
   "cell_type": "code",
   "execution_count": 34,
   "id": "93536534",
   "metadata": {},
   "outputs": [
    {
     "data": {
      "text/plain": [
       "'2025-06-16T15:12:01.000Z'"
      ]
     },
     "execution_count": 34,
     "metadata": {},
     "output_type": "execute_result"
    }
   ],
   "source": [
    "b = datetime.now().strftime(\"%Y-%m-%dT%H:%M:%S.000Z\")\n",
    "b"
   ]
  },
  {
   "cell_type": "code",
   "execution_count": 35,
   "id": "7f359eb8",
   "metadata": {},
   "outputs": [
    {
     "data": {
      "text/plain": [
       "'2025-06-16T19:12:02.595200+00:00'"
      ]
     },
     "execution_count": 35,
     "metadata": {},
     "output_type": "execute_result"
    }
   ],
   "source": [
    "a = datetime.now(timezone.utc).isoformat()\n",
    "a"
   ]
  },
  {
   "cell_type": "code",
   "execution_count": 37,
   "id": "4f77efd5",
   "metadata": {},
   "outputs": [
    {
     "data": {
      "text/plain": [
       "datetime.datetime(2025, 6, 16, 15, 12, 1, tzinfo=datetime.timezone.utc)"
      ]
     },
     "execution_count": 37,
     "metadata": {},
     "output_type": "execute_result"
    }
   ],
   "source": [
    "datetime.fromisoformat(b)"
   ]
  },
  {
   "cell_type": "code",
   "execution_count": 20,
   "id": "aa99d2f2",
   "metadata": {},
   "outputs": [],
   "source": [
    "from typing import Literal\n",
    "from app.db import collection_causas  # Ajusta el import según tu estructura\n",
    "\n",
    "import re\n",
    "\n",
    "async def get_causa_by_id(id_causa: str) -> dict | None:\n",
    "    \"\"\"\n",
    "    Busca una causa judicial en la base de datos según su id_causa, validando el formato y corrigiendo la capitalización.\n",
    "\n",
    "    Parámetros:\n",
    "    -----------\n",
    "    id_causa : str\n",
    "        El identificador único de la causa (ejemplo: \"C-2025-001\").\n",
    "        Debe cumplir el formato: C-YYYY-NNN (ejemplo: \"C-2025-001\").\n",
    "        Si el usuario ingresa la letra inicial en minúscula, la función la corrige automáticamente.\n",
    "\n",
    "    Retorna:\n",
    "    --------\n",
    "    dict | None\n",
    "        Si el formato es incorrecto, retorna {'error': 'Formato de id_causa inválido'}.\n",
    "        Si encuentra la causa, retorna el dict con todos los datos de la causa encontrada.\n",
    "        Si no encuentra ninguna causa, retorna None.\n",
    "\n",
    "    Ejemplo de uso:\n",
    "    --------------\n",
    "    causa = await get_causa_by_id(\"c-2025-001\")\n",
    "    # Corrige a \"C-2025-001\" y busca correctamente.\n",
    "    \"\"\"\n",
    "    # Corrige la capitalización del primer carácter\n",
    "    if id_causa and id_causa[0].islower():\n",
    "        id_causa = id_causa[0].upper() + id_causa[1:]\n",
    "\n",
    "    pattern = r'^C-\\d{4}-\\d{3}$'\n",
    "    if not re.match(pattern, id_causa):\n",
    "        return {'error': 'Formato de id_causa inválido. Debe ser C-YYYY-NNN (ej: C-2025-001)'}\n",
    "\n",
    "    filtro = {'id_causa': id_causa}\n",
    "    causa = await collection_causas.find_one(filtro, projection={'_id': 0})\n",
    "    return causa"
   ]
  },
  {
   "cell_type": "code",
   "execution_count": 23,
   "id": "21639de7",
   "metadata": {},
   "outputs": [
    {
     "data": {
      "text/plain": [
       "{'error': 'Formato de id_causa inválido. Debe ser C-YYYY-NNN (ej: C-2025-001)'}"
      ]
     },
     "execution_count": 23,
     "metadata": {},
     "output_type": "execute_result"
    }
   ],
   "source": [
    "await get_causa_by_id(id_causa=\"e-2025-001\")"
   ]
  },
  {
   "cell_type": "code",
   "execution_count": null,
   "id": "f10949f9",
   "metadata": {},
   "outputs": [],
   "source": []
  }
 ],
 "metadata": {
  "kernelspec": {
   "display_name": ".venv",
   "language": "python",
   "name": "python3"
  },
  "language_info": {
   "codemirror_mode": {
    "name": "ipython",
    "version": 3
   },
   "file_extension": ".py",
   "mimetype": "text/x-python",
   "name": "python",
   "nbconvert_exporter": "python",
   "pygments_lexer": "ipython3",
   "version": "3.12.8"
  }
 },
 "nbformat": 4,
 "nbformat_minor": 5
}
